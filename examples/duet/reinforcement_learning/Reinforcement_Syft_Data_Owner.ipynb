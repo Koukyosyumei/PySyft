{
 "cells": [
  {
   "cell_type": "markdown",
   "id": "tutorial-location",
   "metadata": {},
   "source": [
    "## PART 1: Launch a Duet Server and Connect\n",
    "\n",
    "As a Data Owner, you want to allow someone else to perform data science on data that you own and likely want to protect.\n",
    "\n",
    "In order to do this, we must load our data into a locally running server within this notebook. We call this server a \"Duet\".\n",
    "\n",
    "To begin, you must launch Duet and help your Duet \"partner\" (a Data Scientist) connect to this server.\n",
    "\n",
    "You do this by running the code below and sending the code snippet containing your unique Server ID to your partner and following the instructions it gives!"
   ]
  },
  {
   "cell_type": "code",
   "execution_count": null,
   "id": "simple-ghost",
   "metadata": {},
   "outputs": [],
   "source": [
    "# stdlib\n",
    "from itertools import count\n",
    "import time\n",
    "import shutil\n",
    "import os\n",
    "from pathlib import Path\n",
    "\n",
    "# third party\n",
    "import gym\n",
    "import numpy as np\n",
    "import torch\n",
    "from torch.distributions import Categorical\n",
    "import torch.nn as nn\n",
    "import torch.nn.functional as F\n",
    "import torch.optim as optim\n",
    "\n",
    "import threading\n",
    "import asyncio\n",
    "\n",
    "loop = asyncio.get_event_loop()"
   ]
  },
  {
   "cell_type": "code",
   "execution_count": null,
   "id": "civic-steel",
   "metadata": {},
   "outputs": [],
   "source": [
    "import syft as sy\n",
    "duet = sy.launch_duet(loopback=True)\n",
    "sy.logger.add(sink=\"./syft_do.log\")"
   ]
  },
  {
   "cell_type": "markdown",
   "id": "waiting-scenario",
   "metadata": {},
   "source": [
    "## PART 2: Initialize environment"
   ]
  },
  {
   "cell_type": "code",
   "execution_count": null,
   "id": "lovely-folder",
   "metadata": {},
   "outputs": [],
   "source": [
    "config = {\"gamma\": 0.99,\n",
    "          \"seed\": 543,\n",
    "          \"render\":False,\n",
    "          \"log_interval\":2,\n",
    "          \"wait_interval\":1}"
   ]
  },
  {
   "cell_type": "code",
   "execution_count": null,
   "id": "allied-opposition",
   "metadata": {},
   "outputs": [],
   "source": [
    "# handler with no tags accepts everything. Better handlers coming soon.\n",
    "duet.requests.add_handler(action=\"accept\")"
   ]
  },
  {
   "cell_type": "code",
   "execution_count": null,
   "id": "banned-plasma",
   "metadata": {},
   "outputs": [],
   "source": [
    "env = gym.make(\"CartPole-v1\")\n",
    "env.seed(config[\"seed\"])"
   ]
  },
  {
   "cell_type": "code",
   "execution_count": null,
   "id": "wanted-character",
   "metadata": {},
   "outputs": [],
   "source": [
    "reward_threshold_ptr = sy.lib.python.Float(env.spec.reward_threshold)\n",
    "reward_threshold_ptr.tag(f\"reward_threshold\")\n",
    "reward_threshold_ptr.send(duet, searchable=True)     "
   ]
  },
  {
   "cell_type": "code",
   "execution_count": null,
   "id": "looking-plasma",
   "metadata": {},
   "outputs": [],
   "source": [
    "duet.store.pandas"
   ]
  },
  {
   "cell_type": "code",
   "execution_count": null,
   "id": "after-apparatus",
   "metadata": {},
   "outputs": [],
   "source": [
    "# We'll use this foldre to monitor the status of data scientist\n",
    "try:\n",
    "  shutil.rmtree(\"checkpoints\")\n",
    "except:\n",
    "  pass\n",
    "os.mkdir(\"checkpoints\")"
   ]
  },
  {
   "cell_type": "markdown",
   "id": "excellent-exploration",
   "metadata": {},
   "source": [
    "## PART 3: Training"
   ]
  },
  {
   "cell_type": "code",
   "execution_count": null,
   "id": "sealed-overall",
   "metadata": {},
   "outputs": [],
   "source": [
    "count = 0\n",
    "running_reward = 10\n",
    "\n",
    "for i_episode in range(10):\n",
    "    state = env.reset()\n",
    "    ep_reward = 0\n",
    "    \n",
    "    # 10000\n",
    "    for t in range(1, 30):\n",
    "        # send state to data scientist\n",
    "        state = torch.from_numpy(state).float().unsqueeze(0)\n",
    "        state.tag(f\"state_{count}\")\n",
    "        state.send(duet, searchable=True)\n",
    "        Path(f\"checkpoints/DO_checkpoint_state_{count}\").touch()\n",
    "        \n",
    "        # wait for data scientist to send action\n",
    "        for retry in range(360):\n",
    "            if Path(f\"checkpoints/DS_checkpoint_action_{count}\").exists():\n",
    "                break\n",
    "            task = loop.create_task(asyncio.sleep(config[\"wait_interval\"]))\n",
    "            loop.run_until_complete(task)\n",
    "        assert Path(f\"checkpoints/DS_checkpoint_action_{count}\").exists()\n",
    "        # receive action from data scientist\n",
    "        action_ptr = duet.store[f\"action_{count}\"]         \n",
    "        action = action_ptr.get(delete_obj=False)\n",
    "        \n",
    "        # steo the environment\n",
    "        state, reward, done, _ = env.step(action)  \n",
    "        \n",
    "        # send reward to data scientist\n",
    "        reward_ptr = sy.lib.python.Float(reward)\n",
    "        reward_ptr.tag(f\"reward_{count}\")\n",
    "        reward_ptr.send(duet, searchable=True)\n",
    "        Path(f\"checkpoints/DO_checkpoint_reward_{count}\").touch()\n",
    "        \n",
    "        ep_reward += reward\n",
    "        \n",
    "        # send done to data scientist\n",
    "        done_ptr = sy.lib.python.Bool(False)\n",
    "        done_ptr.tag(f\"done_{count}\")\n",
    "        done_ptr.send(duet, searchable=True)\n",
    "        Path(f\"checkpoints/DO_checkpoint_done_{count}\").touch()\n",
    "        \n",
    "        count += 1\n",
    "        \n",
    "        if done:\n",
    "            break\n",
    "            \n",
    "    running_reward = 0.05 * ep_reward + (1 - 0.05) * running_reward\n",
    "    if running_reward > env.spec.reward_threshold:\n",
    "        print(\"Solved! Running reward is now {} and \"\n",
    "                  \"the last episode runs to {} time steps!\".format(running_reward, t))\n",
    "        break"
   ]
  },
  {
   "cell_type": "code",
   "execution_count": null,
   "id": "environmental-administration",
   "metadata": {},
   "outputs": [],
   "source": [
    "try:\n",
    "  shutil.rmtree(\"checkpoints\")\n",
    "except:\n",
    "  pass"
   ]
  },
  {
   "cell_type": "code",
   "execution_count": null,
   "id": "gothic-patent",
   "metadata": {},
   "outputs": [],
   "source": []
  }
 ],
 "metadata": {
  "kernelspec": {
   "display_name": "Python 3",
   "language": "python",
   "name": "python3"
  },
  "language_info": {
   "codemirror_mode": {
    "name": "ipython",
    "version": 3
   },
   "file_extension": ".py",
   "mimetype": "text/x-python",
   "name": "python",
   "nbconvert_exporter": "python",
   "pygments_lexer": "ipython3",
   "version": "3.8.6"
  }
 },
 "nbformat": 4,
 "nbformat_minor": 5
}
