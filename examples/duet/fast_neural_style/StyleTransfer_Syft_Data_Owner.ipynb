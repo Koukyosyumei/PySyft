{
 "cells": [
  {
   "cell_type": "code",
   "execution_count": null,
   "metadata": {},
   "outputs": [],
   "source": [
    "import syft as sy\n",
    "duet = sy.launch_duet(loopback=True)"
   ]
  },
  {
   "cell_type": "code",
   "execution_count": null,
   "metadata": {},
   "outputs": [],
   "source": [
    "# stdlib\n",
    "import re\n",
    "from typing import Any\n",
    "from typing import List as TypeList\n",
    "\n",
    "import torch\n",
    "from torchvision import transforms\n",
    "\n",
    "from original.neural_style import utils\n",
    "\n",
    "from syft import SyModule\n",
    "from syft import SySequential\n",
    "# from original.neural_style.vgg import Vgg16\n",
    "# from original.neural_style.transformer_net import TransformerNet # redefined below"
   ]
  },
  {
   "cell_type": "code",
   "execution_count": null,
   "metadata": {},
   "outputs": [],
   "source": [
    "# handler with no tags accepts everything. Better handlers coming soon.\n",
    "duet.requests.add_handler(action=\"accept\")"
   ]
  },
  {
   "cell_type": "code",
   "execution_count": null,
   "metadata": {},
   "outputs": [],
   "source": [
    "args = {\"image_size\":None,\n",
    "        \"dataset\":None,\n",
    "        \"batch_size\":4,\n",
    "        \"cuda\":False}"
   ]
  },
  {
   "cell_type": "code",
   "execution_count": null,
   "metadata": {},
   "outputs": [],
   "source": [
    "class TransformerNet(SyModule):\n",
    "    def __init__(self, **kwargs: Any) -> None:\n",
    "        super().__init__(**kwargs)\n",
    "        # Initial convolution layers\n",
    "        self.conv1 = ConvLayer(in_channels = 3, \n",
    "                               out_channels = 32, \n",
    "                               kernel_size=9, stride=1,\n",
    "                               input_size=(1, 3, 1080, 1080))\n",
    "        self.in1 = torch.nn.InstanceNorm2d(num_features=32,\n",
    "                                           affine=True)\n",
    "        self.conv2 = ConvLayer(in_channels = 32,\n",
    "                               out_channels = 64,\n",
    "                               kernel_size=3, stride=2,\n",
    "                               input_size=(1, 32, 1080, 1080))\n",
    "        self.in2 = torch.nn.InstanceNorm2d(num_features=64,\n",
    "                                           affine=True)\n",
    "        self.conv3 = ConvLayer(in_channels = 64,\n",
    "                               out_channels = 128, kernel_size=3,\n",
    "                               stride=2,\n",
    "                               input_size=(1, 64, 540, 540))\n",
    "        self.in3 = torch.nn.InstanceNorm2d(num_features=128,\n",
    "                                           affine=True)\n",
    "        # Residual layers\n",
    "        self.res1 = ResidualBlock(input_size=(1, 128, 270, 270))\n",
    "        self.res2 = ResidualBlock(input_size=(1, 128, 270, 270))\n",
    "        self.res3 = ResidualBlock(input_size=(1, 128, 270, 270))\n",
    "        self.res4 = ResidualBlock(input_size=(1, 128, 270, 270))\n",
    "        self.res5 = ResidualBlock(input_size=(1, 128, 270, 270))\n",
    "        # Upsampling Layers\n",
    "        self.deconv1 = UpsampleConvLayer(in_channels=128, \n",
    "                                         out_channels=64,\n",
    "                                         kernel_size=3,\n",
    "                                         stride=1,\n",
    "                                         #upsample=2,\n",
    "                                         input_size=(1, 128, 270, 270))\n",
    "        self.in4 = torch.nn.InstanceNorm2d(num_features=64, affine=True)\n",
    "        self.deconv2 = UpsampleConvLayer(in_channels=64,\n",
    "                                         out_channels=32,\n",
    "                                         kernel_size=3,\n",
    "                                         stride=1,\n",
    "                                         #upsample=2,\n",
    "                                         input_size=(1, 64, 540, 540))\n",
    "        self.in5 = torch.nn.InstanceNorm2d(num_features=32, affine=True)\n",
    "        self.deconv3 = ConvLayer(in_channels=32,\n",
    "                                 out_channels=3,\n",
    "                                 kernel_size=9, stride=1,\n",
    "                                 input_size=(1, 32, 1080, 1080))\n",
    "        # Non-linearities\n",
    "        self.relu = torch.nn.ReLU()\n",
    "\n",
    "    def forward(self, x):\n",
    "        y = self.relu(self.in1(self.conv1(x=x)[0]))\n",
    "        y = self.relu(self.in2(self.conv2(x=y)[0]))\n",
    "        y = self.relu(self.in3(self.conv3(x=y)[0]))\n",
    "        \n",
    "        y = self.res1(x=y)[0]\n",
    "        y = self.res2(x=y)[0]\n",
    "        y = self.res3(x=y)[0]\n",
    "        y = self.res4(x=y)[0]\n",
    "        y = self.res5(x=y)[0]\n",
    "        \n",
    "        y = self.relu(self.in4(self.deconv1(x=y)[0]))\n",
    "        y = self.relu(self.in5(self.deconv2(x=y)[0]))\n",
    "        y = self.deconv3(x=y)[0]\n",
    "        return y\n",
    "    \n",
    "class ConvLayer(SyModule):\n",
    "    def __init__(self, in_channels: int,\n",
    "                 out_channels: int,\n",
    "                 kernel_size: int,\n",
    "                 stride: int,\n",
    "                 **kwargs: Any) -> None:\n",
    "        super().__init__(**kwargs)\n",
    "        reflection_padding = kernel_size // 2\n",
    "        self.reflection_pad = torch.nn.ReflectionPad2d(padding=reflection_padding)\n",
    "        self.conv2d = torch.nn.Conv2d(in_channels=in_channels,\n",
    "                                      out_channels=out_channels,\n",
    "                                      kernel_size=kernel_size,\n",
    "                                      stride=stride)\n",
    "\n",
    "    def forward(self, x):\n",
    "        out = self.reflection_pad(x)\n",
    "        out = self.conv2d(out)\n",
    "        return out\n",
    "\n",
    "\n",
    "class ResidualBlock(SyModule):\n",
    "    def __init__(self, **kwargs: Any) -> None:\n",
    "        super().__init__(**kwargs)\n",
    "        channels = 128\n",
    "        self.conv1 = ConvLayer(in_channels=128,\n",
    "                               out_channels=128,\n",
    "                               kernel_size=3,\n",
    "                               stride=1,\n",
    "                               input_size=(1, 128, 270, 270))\n",
    "        self.in1 = torch.nn.InstanceNorm2d(num_features=channels, affine=True)\n",
    "        self.conv2 = ConvLayer(in_channels=128,\n",
    "                               out_channels=128,\n",
    "                               kernel_size=3, stride=1,\n",
    "                               input_size=(1, 128, 270, 270))\n",
    "        self.in2 = torch.nn.InstanceNorm2d(num_features=channels, affine=True)\n",
    "        self.relu = torch.nn.ReLU()\n",
    "\n",
    "    def forward(self, x):\n",
    "        residual = x\n",
    "        out = self.conv1(x=x)[0]\n",
    "        out = self.in1(out)\n",
    "        out = self.relu(out)\n",
    "        out = self.in2(self.conv2(x=out)[0])\n",
    "        out = out + residual\n",
    "        return out\n",
    "\n",
    "\n",
    "class UpsampleConvLayer(SyModule):\n",
    "    def __init__(self, in_channels: int,\n",
    "                 out_channels: int,\n",
    "                 kernel_size: int,\n",
    "                 stride: int,\n",
    "                 upsample: float=None,\n",
    "                 **kwargs: Any) -> None:\n",
    "        super().__init__(**kwargs)\n",
    "        self.upsample = upsample\n",
    "        reflection_padding = kernel_size // 2\n",
    "        self.reflection_pad = torch.nn.ReflectionPad2d(padding=reflection_padding)\n",
    "        self.conv2d = torch.nn.Conv2d(in_channels=in_channels,\n",
    "                                      out_channels=out_channels,\n",
    "                                      kernel_size=kernel_size,\n",
    "                                      stride=stride)\n",
    "\n",
    "    def forward(self, x):\n",
    "        x_in = x\n",
    "        if self.upsample:\n",
    "            x_in = remote_torch.nn.functional.interpolate(\n",
    "                x_in, mode=\"nearest\", scale_factor=self.upsample\n",
    "            )\n",
    "        out = self.reflection_pad(x_in)\n",
    "        out = self.conv2d(out)\n",
    "        return out"
   ]
  },
  {
   "cell_type": "code",
   "execution_count": null,
   "metadata": {},
   "outputs": [],
   "source": [
    "class DummyNet(SyModule):\n",
    "    def __init__(self, **kwargs: Any) -> None:\n",
    "        super().__init__(**kwargs)\n",
    "\n",
    "    def forward(self, x):\n",
    "        return x"
   ]
  },
  {
   "cell_type": "code",
   "execution_count": null,
   "metadata": {},
   "outputs": [],
   "source": [
    "remote_torch = duet.torch\n",
    "remote_python = duet.python\n",
    "remote_torchvision = duet.torchvision"
   ]
  },
  {
   "cell_type": "code",
   "execution_count": null,
   "metadata": {},
   "outputs": [],
   "source": [
    "content_image = utils.load_image(\"original/images/content_images/amber.jpg\")\n",
    "content_transform = transforms.Compose(\n",
    "    [transforms.ToTensor(), transforms.Lambda(lambda x: x.mul(255))]\n",
    ")\n",
    "\n",
    "content_image = content_transform(content_image)\n",
    "content_image = content_image.unsqueeze(0)"
   ]
  },
  {
   "cell_type": "code",
   "execution_count": null,
   "metadata": {},
   "outputs": [],
   "source": [
    "#dummy_content_dl = sy.lib.python.List([content_image])\n",
    "dummy_net = DummyNet(input_size=(1, 3, 1080, 1080))"
   ]
  },
  {
   "cell_type": "code",
   "execution_count": null,
   "metadata": {
    "tags": []
   },
   "outputs": [],
   "source": [
    "from syft.core.plan.plan_builder import make_plan\n",
    "\n",
    "@make_plan\n",
    "def stylize(x=content_image, style_model=dummy_net):\n",
    "    output = style_model(x=x)\n",
    "    return output"
   ]
  },
  {
   "cell_type": "code",
   "execution_count": null,
   "metadata": {},
   "outputs": [],
   "source": [
    "stylize.tag(\"stylize\")\n",
    "stylize.send(duet)"
   ]
  },
  {
   "cell_type": "code",
   "execution_count": null,
   "metadata": {},
   "outputs": [],
   "source": [
    "#%run \"original/download_saved_models.py\""
   ]
  },
  {
   "cell_type": "code",
   "execution_count": null,
   "metadata": {},
   "outputs": [],
   "source": [
    "\"\"\"\n",
    "model_path = \"saved_models/mosaic.pth\" \n",
    "device = torch.device(\"cuda\" if args[\"cuda\"] else \"cpu\")\n",
    "\n",
    "# TODO\n",
    "# load weights into the model\n",
    "with torch.no_grad():\n",
    "    style_model = TransformerNet(input_size=(1, 3, 1080, 1080))\n",
    "    state_dict = torch.load(model_path)\n",
    "    # remove saved deprecated running_* keys in InstanceNorm from the checkpoint\n",
    "    for k in list(state_dict.keys()):\n",
    "        if re.search(r\"in\\d+\\.running_(mean|var)$\", k):\n",
    "            del state_dict[k]\n",
    "    style_model.load_state_dict(state_dict)\n",
    "\"\"\""
   ]
  },
  {
   "cell_type": "code",
   "execution_count": null,
   "metadata": {},
   "outputs": [],
   "source": [
    "duet.store.pandas"
   ]
  },
  {
   "cell_type": "code",
   "execution_count": null,
   "metadata": {},
   "outputs": [],
   "source": [
    "stylize_ptr = duet.store[\"stylize\"]"
   ]
  },
  {
   "cell_type": "code",
   "execution_count": null,
   "metadata": {},
   "outputs": [],
   "source": [
    "stylized_image = stylize_ptr(x=content_image, style_model=dummy_net)"
   ]
  },
  {
   "cell_type": "code",
   "execution_count": null,
   "metadata": {},
   "outputs": [],
   "source": []
  }
 ],
 "metadata": {
  "kernelspec": {
   "display_name": "Python 3",
   "language": "python",
   "name": "python3"
  },
  "language_info": {
   "codemirror_mode": {
    "name": "ipython",
    "version": 3
   },
   "file_extension": ".py",
   "mimetype": "text/x-python",
   "name": "python",
   "nbconvert_exporter": "python",
   "pygments_lexer": "ipython3",
   "version": "3.9.1"
  }
 },
 "nbformat": 4,
 "nbformat_minor": 4
}
