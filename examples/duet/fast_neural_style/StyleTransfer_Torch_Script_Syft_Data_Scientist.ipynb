{
 "cells": [
  {
   "cell_type": "code",
   "execution_count": null,
   "metadata": {},
   "outputs": [],
   "source": [
    "import syft as sy\n",
    "duet = sy.join_duet(loopback=True)"
   ]
  },
  {
   "cell_type": "code",
   "execution_count": null,
   "metadata": {},
   "outputs": [],
   "source": [
    "import re\n",
    "from typing import Any\n",
    "from typing import List as TypeList\n",
    "\n",
    "import torch\n",
    "import torchvision\n",
    "from original.neural_style import utils\n",
    "\n",
    "from syft import SyModule\n",
    "from syft import SySequential"
   ]
  },
  {
   "cell_type": "code",
   "execution_count": null,
   "metadata": {},
   "outputs": [],
   "source": [
    "duet.store.pandas"
   ]
  },
  {
   "cell_type": "code",
   "execution_count": null,
   "metadata": {},
   "outputs": [],
   "source": [
    "args = {\n",
    "    \"epochs\": 1,\n",
    "    \"style_image\": \"original/images/style_images/mosaic.jpg\",\n",
    "    \"content_image\": \"original/images/content_images/amber.jpg\",\n",
    "    \"content_weight\": 1e5,\n",
    "    \"style_weight\": 1e10,\n",
    "    \"content_scale\": None\n",
    "}"
   ]
  },
  {
   "cell_type": "code",
   "execution_count": null,
   "metadata": {},
   "outputs": [],
   "source": [
    "# Try to stilyize one image\n",
    "content = utils.load_image(args[\"content_image\"])\n",
    "content"
   ]
  },
  {
   "cell_type": "code",
   "execution_count": null,
   "metadata": {},
   "outputs": [],
   "source": [
    "content_image = utils.load_image(args[\"content_image\"], scale=args[\"content_scale\"])\n",
    "content_transform = torchvision.transforms.Compose(\n",
    "    [torchvision.transforms.ToTensor(),\n",
    "     torchvision.transforms.Lambda(lambda x: x.mul(255))]\n",
    ")\n",
    "content_image = content_transform(content_image)\n",
    "content_image = content_image.unsqueeze(0)"
   ]
  },
  {
   "cell_type": "code",
   "execution_count": null,
   "metadata": {},
   "outputs": [],
   "source": [
    "stylize_ptr = duet.store[\"stylize\"]"
   ]
  },
  {
   "cell_type": "code",
   "execution_count": null,
   "metadata": {},
   "outputs": [],
   "source": [
    "class DummyNet(SyModule):\n",
    "    def __init__(self, **kwargs: Any) -> None:\n",
    "        super().__init__(**kwargs)\n",
    "\n",
    "    def forward(self, x):\n",
    "        return x\n",
    "    \n",
    "dummy_model = DummyNet(input_size=(1, 3, 1080, 1080))"
   ]
  },
  {
   "cell_type": "code",
   "execution_count": null,
   "metadata": {},
   "outputs": [],
   "source": [
    "stylized_image = stylize_ptr(x=content_image, style_model=dummy_model)"
   ]
  }
 ],
 "metadata": {
  "kernelspec": {
   "display_name": "Python 3",
   "language": "python",
   "name": "python3"
  },
  "language_info": {
   "codemirror_mode": {
    "name": "ipython",
    "version": 3
   },
   "file_extension": ".py",
   "mimetype": "text/x-python",
   "name": "python",
   "nbconvert_exporter": "python",
   "pygments_lexer": "ipython3",
   "version": "3.9.1"
  }
 },
 "nbformat": 4,
 "nbformat_minor": 4
}
