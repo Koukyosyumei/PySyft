{
 "cells": [
  {
   "cell_type": "code",
   "execution_count": 1,
   "metadata": {},
   "outputs": [
    {
     "data": {
      "image/png": "[encoded data removed]",
      "text/plain": [
       "<IPython.core.display.Image object>"
      ]
     },
     "metadata": {
      "image/png": {
       "unconfined": true,
       "width": 400
      }
     },
     "output_type": "display_data"
    },
    {
     "name": "stdout",
     "output_type": "stream",
     "text": [
      "🎤  🎸  ♪♪♪ Joining Duet ♫♫♫  🎻  🎹\n",
      "\n",
      "♫♫♫ >\u001b[93m DISCLAIMER\u001b[0m: \u001b[1mDuet is an experimental feature currently in beta.\n",
      "♫♫♫ > Use at your own risk.\n",
      "\u001b[0m\n",
      "\u001b[1m\n",
      "    > ❤️ \u001b[91mLove\u001b[0m \u001b[92mDuet\u001b[0m? \u001b[93mPlease\u001b[0m \u001b[94mconsider\u001b[0m \u001b[95msupporting\u001b[0m \u001b[91mour\u001b[0m \u001b[93mcommunity!\u001b[0m\n",
      "    > https://github.com/sponsors/OpenMined\u001b[1m\n",
      "\n",
      "♫♫♫ > Punching through firewall to OpenGrid Network Node at:\n",
      "♫♫♫ > http://ec2-18-216-8-163.us-east-2.compute.amazonaws.com:5000\n",
      "♫♫♫ >\n",
      "♫♫♫ > ...waiting for response from OpenGrid Network... \n",
      "♫♫♫ > \u001b[92mDONE!\u001b[0m\n",
      "\n",
      "♫♫♫ > \u001b[92mCONNECTED!\u001b[0m\n"
     ]
    }
   ],
   "source": [
    "import syft as sy\n",
    "duet = sy.join_duet(loopback=True)"
   ]
  },
  {
   "cell_type": "code",
   "execution_count": 2,
   "metadata": {},
   "outputs": [],
   "source": [
    "import torch\n",
    "from math import sqrt\n",
    "import time"
   ]
  },
  {
   "cell_type": "code",
   "execution_count": 3,
   "metadata": {},
   "outputs": [],
   "source": [
    "import os\n",
    "\n",
    "config = {\"epochs\":1,\n",
    "          \"batch_size\":1,\n",
    "          \"d_embed\":100,\n",
    "          \"d_proj\":300,\n",
    "          \"d_hidden\":300,\n",
    "          \"n_layers\":1,\n",
    "          \"log_every\":50,\n",
    "          \"lr\":.001,\n",
    "          \"dev_every\":1000,\n",
    "          \"save_every\":1000,\n",
    "          \"dp_ratio\":0.2,\n",
    "          \"birnn\":None,\n",
    "          \"lower\":None,\n",
    "          \"projection\":None,\n",
    "          \"fix_emb\":None,\n",
    "          \"gpu\":-1,\n",
    "          \"save_path\":\"results\",\n",
    "          \"vector_vache\":os.path.join(os.getcwd(), '.vector_cache/input_vectors.pt'),\n",
    "          \"word_vectors\":'glove.6B.100d',\n",
    "          \"resume_snapshow\":\"\"}"
   ]
  },
  {
   "cell_type": "code",
   "execution_count": 4,
   "metadata": {},
   "outputs": [],
   "source": [
    "sentence_encoder_vocab_size = duet.store[\"sentence_encoder_vocab_size\"]\n",
    "label_encoder_vocab_size = duet.store[\"label_encoder_vocab_size\"]\n",
    "train = duet.store[\"train\"]\n",
    "dev = duet.store[\"dev\"]\n",
    "test = duet.store[\"test\"]"
   ]
  },
  {
   "cell_type": "code",
   "execution_count": 5,
   "metadata": {},
   "outputs": [],
   "source": [
    "remote_torch = duet.torch"
   ]
  },
  {
   "cell_type": "code",
   "execution_count": 22,
   "metadata": {},
   "outputs": [],
   "source": [
    "class Bottle(sy.Module):\n",
    "    def __init__(self, torch_ref):\n",
    "        super(Bottle, self).__init__(torch_ref=torch_ref)\n",
    "        \n",
    "    def forward(self, input):\n",
    "        if len(input.size()) <= 2:\n",
    "            return super(Bottle, self).forward(input)\n",
    "        size = input.size()[:2]\n",
    "        out = super(Bottle, self).forward(input.view(size[0] * size[1], -1))\n",
    "        return out.view(size[0], size[1], -1)\n",
    "\n",
    "\n",
    "class MyLinear(sy.Module):\n",
    "    def __init__(self, torch_ref, in_features, out_features):\n",
    "        super().__init__(torch_ref = torch_ref)\n",
    "        self.in_features = in_features\n",
    "        self.out_features = out_features\n",
    "        self.lin = self.torch_ref.nn.Linear(in_features, out_features)\n",
    "\n",
    "    def forward(self, x):\n",
    "        return self.lin(x)\n",
    "    \n",
    "class Linear(Bottle, MyLinear):\n",
    "    pass\n",
    "\n",
    "\n",
    "class Encoder(sy.Module):\n",
    "\n",
    "    def __init__(self, torch_ref, config):\n",
    "        super(Encoder, self).__init__(torch_ref = torch_ref)\n",
    "        self.config = config\n",
    "        input_size = config[\"d_proj\"] if config[\"projection\"] else config[\"d_embed\"]\n",
    "        self.rnn = self.torch_ref.nn.LSTM(\n",
    "            input_size=input_size,\n",
    "            hidden_size=config[\"d_hidden\"],\n",
    "            num_layers=config[\"n_layers\"],\n",
    "            dropout=config[\"dp_ratio\"],\n",
    "            bidirectional=config[\"birnn\"])\n",
    "\n",
    "    def forward(self, inputs):\n",
    "        batch_size = inputs.size()[1]\n",
    "        state_shape = self.config.n_cells, batch_size, self.config[\"d_hidden\"]\n",
    "        h0 = c0 = inputs.detach().new_zeros(*state_shape)\n",
    "        rnn_outputs = self.rnn(inputs, (h0, c0))\n",
    "        outputs, (ht, ct) = rnn_outputs[0], rnn_outputs[1]\n",
    "        return ht[-1] if not self.config[\"birnn\"] else ht[-2:].transpose(0, 1).contiguous().view(\n",
    "            batch_size, -1)\n",
    "\n",
    "\n",
    "class SNLIClassifier(sy.Module):\n",
    "\n",
    "    def __init__(self, torch_ref, config):\n",
    "        super(SNLIClassifier, self).__init__(torch_ref = torch_ref)\n",
    "        self.config = config\n",
    "        self.embed = self.torch_ref.nn.Embedding(config[\"n_embed\"], config[\"d_embed\"])\n",
    "        self.projection = self.torch_ref.nn.Linear(config[\"d_embed\"], config[\"d_proj\"])\n",
    "        self.encoder = Encoder(torch, config)\n",
    "        self.dropout = self.torch_ref.nn.Dropout(p=config[\"dp_ratio\"])\n",
    "        self.relu = self.torch_ref.nn.ReLU()\n",
    "        seq_in_size = 2 * config[\"d_hidden\"]\n",
    "        if self.config[\"birnn\"]:\n",
    "            seq_in_size *= 2\n",
    "        lin_config = [seq_in_size] * 2\n",
    "        self.out = self.torch_ref.nn.Sequential(\n",
    "            self.torch_ref.nn.Linear(*lin_config),\n",
    "            self.relu, self.dropout,\n",
    "            self.torch_ref.nn.Linear(*lin_config),\n",
    "            self.relu,\n",
    "            self.dropout,\n",
    "            self.torch_ref.nn.Linear(*lin_config),\n",
    "            self.relu, self.dropout,\n",
    "            self.torch_ref.nn.Linear(seq_in_size, config[\"d_out\"]))\n",
    "\n",
    "    def forward(self, premise, hypothesis):\n",
    "        prem_embed = self.embed(premise)\n",
    "        hypo_embed = self.embed(hypothesis)\n",
    "        if self.config[\"fix_emb\"]:\n",
    "            prem_embed = prem_embed.detach()\n",
    "            hypo_embed = hypo_embed.detach()\n",
    "        if self.config[\"projection\"]:\n",
    "            prem_embed = self.relu(self.projection(prem_embed))\n",
    "            hypo_embed = self.relu(self.projection(hypo_embed))\n",
    "        premise = self.encoder(prem_embed)\n",
    "        hypothesis = self.encoder(hypo_embed)\n",
    "        scores = self.out(torch.cat([premise, hypothesis], 1))\n",
    "        return scores"
   ]
  },
  {
   "cell_type": "code",
   "execution_count": 23,
   "metadata": {},
   "outputs": [],
   "source": [
    "config[\"n_embed\"] = sentence_encoder_vocab_size.get(request_block=True, delete_obj=False)\n",
    "config[\"d_out\"] = label_encoder_vocab_size.get(request_block=True, delete_obj=False)\n",
    "config[\"n_cells\"] = config[\"n_layers\"]\n",
    "if config[\"birnn\"]:\n",
    "    config[\"n_cells\"] *= 2"
   ]
  },
  {
   "cell_type": "code",
   "execution_count": 24,
   "metadata": {},
   "outputs": [],
   "source": [
    "model = SNLIClassifier(torch, config)\n",
    "remote_model = model.send(duet)"
   ]
  },
  {
   "cell_type": "code",
   "execution_count": 25,
   "metadata": {},
   "outputs": [],
   "source": [
    "criterion = remote_torch.nn.CrossEntropyLoss()\n",
    "opt = remote_torch.optim.Adam(remote_model.parameters(), lr=config[\"lr\"])\n",
    "\n",
    "iterations = 0\n",
    "start = time.time()\n",
    "best_dev_acc = -1\n",
    "header = '  Time Epoch Iteration Progress    (%Epoch)   Loss   Dev/Loss     Accuracy  Dev/Accuracy'\n",
    "dev_log_template = ' '.join(\n",
    "    '{:>6.0f},{:>5.0f},{:>9.0f},{:>5.0f}/{:<5.0f} {:>7.0f}%,{:>8.6f},{:8.6f},{:12.4f},{:12.4f}'\n",
    "    .split(','))\n",
    "log_template = ' '.join(\n",
    "    '{:>6.0f},{:>5.0f},{:>9.0f},{:>5.0f}/{:<5.0f} {:>7.0f}%,{:>8.6f},{},{:12.4f},{}'.split(','))"
   ]
  },
  {
   "cell_type": "code",
   "execution_count": 26,
   "metadata": {},
   "outputs": [],
   "source": [
    "from syft.core.plan.plan_builder import make_plan, build_plan_inputs\n",
    "\n",
    "dummy_dl = sy.lib.python.List([{'premise': torch.Tensor([ 5,  6,  7,  5,  8,  9, 10,  5, 11, 12, 13]),\n",
    " 'hypothesis': torch.Tensor([ 5,  6, 67, 68, 69,  8, 70,  5, 71]),\n",
    " 'label': torch.Tensor(1),\n",
    " 'premise_transitions': ['shift',\n",
    "  'shift',\n",
    "  'shift',\n",
    "  'shift']}])\n",
    "'''\n",
    "dummy_flag = sy.lib.python.Bool(True)\n",
    "\n",
    "@make_plan\n",
    "def collate_fn(batch=dummy_dl, train=dummy_flag):\n",
    "    \"\"\" list of tensors to a batch tensors \"\"\"\n",
    "    premise_batch, _ = stack_and_pad_tensors([remote_torch.Tensor(row['premise']) for row in batch])\n",
    "    hypothesis_batch, _ = stack_and_pad_tensors([row['hypothesis'] for row in batch])\n",
    "    label_batch = torch.stack([row['label'] for row in batch])\n",
    "\n",
    "    # PyTorch RNN requires batches to be transposed for speed and integration with CUDA\n",
    "    transpose = (lambda b: b.t_().squeeze(0).contiguous())\n",
    "\n",
    "    return (transpose(premise_batch), transpose(hypothesis_batch), transpose(label_batch))\n",
    "'''\n",
    "\n",
    "@make_plan\n",
    "def collate_fn(batch=dummy_dl):\n",
    "    return batch[0]  "
   ]
  },
  {
   "cell_type": "code",
   "execution_count": 27,
   "metadata": {},
   "outputs": [
    {
     "name": "stdout",
     "output_type": "stream",
     "text": [
      "0\n"
     ]
    },
    {
     "ename": "TypeError",
     "evalue": "embedding(): argument 'indices' (position 2) must be Tensor, not TensorPointer",
     "output_type": "error",
     "traceback": [
      "\u001b[1;31m---------------------------------------------------------------------------\u001b[0m",
      "\u001b[1;31mTypeError\u001b[0m                                 Traceback (most recent call last)",
      "\u001b[1;32m<ipython-input-27-2f5132afdc68>\u001b[0m in \u001b[0;36m<module>\u001b[1;34m\u001b[0m\n\u001b[0;32m     23\u001b[0m \u001b[1;33m\u001b[0m\u001b[0m\n\u001b[0;32m     24\u001b[0m         \u001b[1;31m# forward pass\u001b[0m\u001b[1;33m\u001b[0m\u001b[1;33m\u001b[0m\u001b[1;33m\u001b[0m\u001b[0m\n\u001b[1;32m---> 25\u001b[1;33m         \u001b[0manswer\u001b[0m \u001b[1;33m=\u001b[0m \u001b[0mmodel\u001b[0m\u001b[1;33m(\u001b[0m\u001b[0mpremise_batch\u001b[0m\u001b[1;33m,\u001b[0m \u001b[0mhypothesis_batch\u001b[0m\u001b[1;33m)\u001b[0m\u001b[1;33m\u001b[0m\u001b[1;33m\u001b[0m\u001b[0m\n\u001b[0m\u001b[0;32m     26\u001b[0m \u001b[1;33m\u001b[0m\u001b[0m\n\u001b[0;32m     27\u001b[0m         \u001b[1;31m# calculate accuracy of predictions in the current batch\u001b[0m\u001b[1;33m\u001b[0m\u001b[1;33m\u001b[0m\u001b[1;33m\u001b[0m\u001b[0m\n",
      "\u001b[1;32mc:\\users\\kanka\\desktop\\git_public\\pysyft\\src\\syft\\lib\\torch\\module.py\u001b[0m in \u001b[0;36m__call__\u001b[1;34m(self, *args, **kwargs)\u001b[0m\n\u001b[0;32m    155\u001b[0m         \u001b[0mself\u001b[0m\u001b[1;33m,\u001b[0m \u001b[1;33m*\u001b[0m\u001b[0margs\u001b[0m\u001b[1;33m:\u001b[0m \u001b[0mUnion\u001b[0m\u001b[1;33m[\u001b[0m\u001b[0mList\u001b[0m\u001b[1;33m[\u001b[0m\u001b[0mAny\u001b[0m\u001b[1;33m]\u001b[0m\u001b[1;33m,\u001b[0m \u001b[0mTuple\u001b[0m\u001b[1;33m[\u001b[0m\u001b[0mAny\u001b[0m\u001b[1;33m,\u001b[0m \u001b[1;33m...\u001b[0m\u001b[1;33m]\u001b[0m\u001b[1;33m]\u001b[0m\u001b[1;33m,\u001b[0m \u001b[1;33m**\u001b[0m\u001b[0mkwargs\u001b[0m\u001b[1;33m:\u001b[0m \u001b[0mDict\u001b[0m\u001b[1;33m[\u001b[0m\u001b[0mAny\u001b[0m\u001b[1;33m,\u001b[0m \u001b[0mAny\u001b[0m\u001b[1;33m]\u001b[0m\u001b[1;33m\u001b[0m\u001b[1;33m\u001b[0m\u001b[0m\n\u001b[0;32m    156\u001b[0m     ) -> Any:\n\u001b[1;32m--> 157\u001b[1;33m         \u001b[1;32mreturn\u001b[0m \u001b[0mself\u001b[0m\u001b[1;33m.\u001b[0m\u001b[0mforward\u001b[0m\u001b[1;33m(\u001b[0m\u001b[1;33m*\u001b[0m\u001b[0margs\u001b[0m\u001b[1;33m,\u001b[0m \u001b[1;33m**\u001b[0m\u001b[0mkwargs\u001b[0m\u001b[1;33m)\u001b[0m\u001b[1;33m\u001b[0m\u001b[1;33m\u001b[0m\u001b[0m\n\u001b[0m\u001b[0;32m    158\u001b[0m \u001b[1;33m\u001b[0m\u001b[0m\n\u001b[0;32m    159\u001b[0m     \u001b[1;33m@\u001b[0m\u001b[0mproperty\u001b[0m\u001b[1;33m\u001b[0m\u001b[1;33m\u001b[0m\u001b[0m\n",
      "\u001b[1;32m<ipython-input-22-f086c3307899>\u001b[0m in \u001b[0;36mforward\u001b[1;34m(self, premise, hypothesis)\u001b[0m\n\u001b[0;32m     73\u001b[0m \u001b[1;33m\u001b[0m\u001b[0m\n\u001b[0;32m     74\u001b[0m     \u001b[1;32mdef\u001b[0m \u001b[0mforward\u001b[0m\u001b[1;33m(\u001b[0m\u001b[0mself\u001b[0m\u001b[1;33m,\u001b[0m \u001b[0mpremise\u001b[0m\u001b[1;33m,\u001b[0m \u001b[0mhypothesis\u001b[0m\u001b[1;33m)\u001b[0m\u001b[1;33m:\u001b[0m\u001b[1;33m\u001b[0m\u001b[1;33m\u001b[0m\u001b[0m\n\u001b[1;32m---> 75\u001b[1;33m         \u001b[0mprem_embed\u001b[0m \u001b[1;33m=\u001b[0m \u001b[0mself\u001b[0m\u001b[1;33m.\u001b[0m\u001b[0membed\u001b[0m\u001b[1;33m(\u001b[0m\u001b[0mremote_torch\u001b[0m\u001b[1;33m.\u001b[0m\u001b[0mTensor\u001b[0m\u001b[1;33m(\u001b[0m\u001b[0mpremise\u001b[0m\u001b[1;33m)\u001b[0m\u001b[1;33m)\u001b[0m\u001b[1;33m\u001b[0m\u001b[1;33m\u001b[0m\u001b[0m\n\u001b[0m\u001b[0;32m     76\u001b[0m         \u001b[0mhypo_embed\u001b[0m \u001b[1;33m=\u001b[0m \u001b[0mself\u001b[0m\u001b[1;33m.\u001b[0m\u001b[0membed\u001b[0m\u001b[1;33m(\u001b[0m\u001b[0mhypothesis\u001b[0m\u001b[1;33m)\u001b[0m\u001b[1;33m\u001b[0m\u001b[1;33m\u001b[0m\u001b[0m\n\u001b[0;32m     77\u001b[0m         \u001b[1;32mif\u001b[0m \u001b[0mself\u001b[0m\u001b[1;33m.\u001b[0m\u001b[0mconfig\u001b[0m\u001b[1;33m[\u001b[0m\u001b[1;34m\"fix_emb\"\u001b[0m\u001b[1;33m]\u001b[0m\u001b[1;33m:\u001b[0m\u001b[1;33m\u001b[0m\u001b[1;33m\u001b[0m\u001b[0m\n",
      "\u001b[1;32m~\\AppData\\Local\\Programs\\Python\\Python39\\lib\\site-packages\\torch\\nn\\modules\\module.py\u001b[0m in \u001b[0;36m_call_impl\u001b[1;34m(self, *input, **kwargs)\u001b[0m\n\u001b[0;32m    887\u001b[0m             \u001b[0mresult\u001b[0m \u001b[1;33m=\u001b[0m \u001b[0mself\u001b[0m\u001b[1;33m.\u001b[0m\u001b[0m_slow_forward\u001b[0m\u001b[1;33m(\u001b[0m\u001b[1;33m*\u001b[0m\u001b[0minput\u001b[0m\u001b[1;33m,\u001b[0m \u001b[1;33m**\u001b[0m\u001b[0mkwargs\u001b[0m\u001b[1;33m)\u001b[0m\u001b[1;33m\u001b[0m\u001b[1;33m\u001b[0m\u001b[0m\n\u001b[0;32m    888\u001b[0m         \u001b[1;32melse\u001b[0m\u001b[1;33m:\u001b[0m\u001b[1;33m\u001b[0m\u001b[1;33m\u001b[0m\u001b[0m\n\u001b[1;32m--> 889\u001b[1;33m             \u001b[0mresult\u001b[0m \u001b[1;33m=\u001b[0m \u001b[0mself\u001b[0m\u001b[1;33m.\u001b[0m\u001b[0mforward\u001b[0m\u001b[1;33m(\u001b[0m\u001b[1;33m*\u001b[0m\u001b[0minput\u001b[0m\u001b[1;33m,\u001b[0m \u001b[1;33m**\u001b[0m\u001b[0mkwargs\u001b[0m\u001b[1;33m)\u001b[0m\u001b[1;33m\u001b[0m\u001b[1;33m\u001b[0m\u001b[0m\n\u001b[0m\u001b[0;32m    890\u001b[0m         for hook in itertools.chain(\n\u001b[0;32m    891\u001b[0m                 \u001b[0m_global_forward_hooks\u001b[0m\u001b[1;33m.\u001b[0m\u001b[0mvalues\u001b[0m\u001b[1;33m(\u001b[0m\u001b[1;33m)\u001b[0m\u001b[1;33m,\u001b[0m\u001b[1;33m\u001b[0m\u001b[1;33m\u001b[0m\u001b[0m\n",
      "\u001b[1;32m~\\AppData\\Local\\Programs\\Python\\Python39\\lib\\site-packages\\torch\\nn\\modules\\sparse.py\u001b[0m in \u001b[0;36mforward\u001b[1;34m(self, input)\u001b[0m\n\u001b[0;32m    143\u001b[0m \u001b[1;33m\u001b[0m\u001b[0m\n\u001b[0;32m    144\u001b[0m     \u001b[1;32mdef\u001b[0m \u001b[0mforward\u001b[0m\u001b[1;33m(\u001b[0m\u001b[0mself\u001b[0m\u001b[1;33m,\u001b[0m \u001b[0minput\u001b[0m\u001b[1;33m:\u001b[0m \u001b[0mTensor\u001b[0m\u001b[1;33m)\u001b[0m \u001b[1;33m->\u001b[0m \u001b[0mTensor\u001b[0m\u001b[1;33m:\u001b[0m\u001b[1;33m\u001b[0m\u001b[1;33m\u001b[0m\u001b[0m\n\u001b[1;32m--> 145\u001b[1;33m         return F.embedding(\n\u001b[0m\u001b[0;32m    146\u001b[0m             \u001b[0minput\u001b[0m\u001b[1;33m,\u001b[0m \u001b[0mself\u001b[0m\u001b[1;33m.\u001b[0m\u001b[0mweight\u001b[0m\u001b[1;33m,\u001b[0m \u001b[0mself\u001b[0m\u001b[1;33m.\u001b[0m\u001b[0mpadding_idx\u001b[0m\u001b[1;33m,\u001b[0m \u001b[0mself\u001b[0m\u001b[1;33m.\u001b[0m\u001b[0mmax_norm\u001b[0m\u001b[1;33m,\u001b[0m\u001b[1;33m\u001b[0m\u001b[1;33m\u001b[0m\u001b[0m\n\u001b[0;32m    147\u001b[0m             self.norm_type, self.scale_grad_by_freq, self.sparse)\n",
      "\u001b[1;32m~\\AppData\\Local\\Programs\\Python\\Python39\\lib\\site-packages\\torch\\nn\\functional.py\u001b[0m in \u001b[0;36membedding\u001b[1;34m(input, weight, padding_idx, max_norm, norm_type, scale_grad_by_freq, sparse)\u001b[0m\n\u001b[0;32m   1911\u001b[0m         \u001b[1;31m# remove once script supports set_grad_enabled\u001b[0m\u001b[1;33m\u001b[0m\u001b[1;33m\u001b[0m\u001b[1;33m\u001b[0m\u001b[0m\n\u001b[0;32m   1912\u001b[0m         \u001b[0m_no_grad_embedding_renorm_\u001b[0m\u001b[1;33m(\u001b[0m\u001b[0mweight\u001b[0m\u001b[1;33m,\u001b[0m \u001b[0minput\u001b[0m\u001b[1;33m,\u001b[0m \u001b[0mmax_norm\u001b[0m\u001b[1;33m,\u001b[0m \u001b[0mnorm_type\u001b[0m\u001b[1;33m)\u001b[0m\u001b[1;33m\u001b[0m\u001b[1;33m\u001b[0m\u001b[0m\n\u001b[1;32m-> 1913\u001b[1;33m     \u001b[1;32mreturn\u001b[0m \u001b[0mtorch\u001b[0m\u001b[1;33m.\u001b[0m\u001b[0membedding\u001b[0m\u001b[1;33m(\u001b[0m\u001b[0mweight\u001b[0m\u001b[1;33m,\u001b[0m \u001b[0minput\u001b[0m\u001b[1;33m,\u001b[0m \u001b[0mpadding_idx\u001b[0m\u001b[1;33m,\u001b[0m \u001b[0mscale_grad_by_freq\u001b[0m\u001b[1;33m,\u001b[0m \u001b[0msparse\u001b[0m\u001b[1;33m)\u001b[0m\u001b[1;33m\u001b[0m\u001b[1;33m\u001b[0m\u001b[0m\n\u001b[0m\u001b[0;32m   1914\u001b[0m \u001b[1;33m\u001b[0m\u001b[0m\n\u001b[0;32m   1915\u001b[0m \u001b[1;33m\u001b[0m\u001b[0m\n",
      "\u001b[1;31mTypeError\u001b[0m: embedding(): argument 'indices' (position 2) must be Tensor, not TensorPointer"
     ]
    }
   ],
   "source": [
    "for epoch in range(config[\"epochs\"]):\n",
    "    print(epoch)\n",
    "    n_correct, n_total = 0, 0\n",
    "\n",
    "    train_sampler = remote_torch.utils.data.sampler.SequentialSampler(train)\n",
    "    train_batch_sampler = remote_torch.utils.data.BatchSampler(\n",
    "        train_sampler, config[\"batch_size\"], True)\n",
    "    train_iterator = remote_torch.utils.data.DataLoader(\n",
    "        train,\n",
    "        batch_sampler=train_batch_sampler,\n",
    "        collate_fn=collate_fn,\n",
    "        pin_memory=False,\n",
    "        num_workers=0)\n",
    "    \n",
    "    for batch_idx, data in enumerate(train_iterator):\n",
    "        premise_batch, hypothesis_batch, label_batch = data[0], data[1], data[2]\n",
    "        # switch model to training mode, clear gradient accumulators\n",
    "        model.train()\n",
    "        remote_torch.set_grad_enabled(True)\n",
    "        opt.zero_grad()\n",
    "\n",
    "        iterations += 1\n",
    "\n",
    "        # forward pass\n",
    "        answer = model(premise_batch, hypothesis_batch)\n",
    "\n",
    "        # calculate accuracy of predictions in the current batch\n",
    "        n_correct += (remote_torch.max(answer, 1)[1].view(label_batch.size()) == label_batch).sum()\n",
    "        n_total += premise_batch.size()[1]\n",
    "        train_acc = 100. * n_correct / n_total\n",
    "\n",
    "        # calculate loss of the network output with respect to training labels\n",
    "        loss = criterion(answer, label_batch)\n",
    "\n",
    "        # backpropagate and update optimizer learning rate\n",
    "        loss.backward()\n",
    "        opt.step()"
   ]
  },
  {
   "cell_type": "code",
   "execution_count": null,
   "metadata": {},
   "outputs": [],
   "source": []
  }
 ],
 "metadata": {
  "kernelspec": {
   "display_name": "Python 3",
   "language": "python",
   "name": "python3"
  },
  "language_info": {
   "codemirror_mode": {
    "name": "ipython",
    "version": 3
   },
   "file_extension": ".py",
   "mimetype": "text/x-python",
   "name": "python",
   "nbconvert_exporter": "python",
   "pygments_lexer": "ipython3",
   "version": "3.9.1"
  }
 },
 "nbformat": 4,
 "nbformat_minor": 4
}
