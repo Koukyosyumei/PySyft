{
 "cells": [
  {
   "cell_type": "markdown",
   "metadata": {
    "id": "9kiugpQBYuNx"
   },
   "source": [
    "this notebook is mainly based on [uid42](https://github.com/uid42)'s implementation on [#4901](https://github.com/OpenMined/PySyft/issues/4901). \n",
    "\n",
    "This notebook works in 0.4, but dosen't work in 0.3"
   ]
  },
  {
   "cell_type": "code",
   "execution_count": null,
   "metadata": {
    "id": "PeWsB5cvHBDK"
   },
   "outputs": [],
   "source": [
    "import syft as sy\n",
    "import sklearn\n",
    "import torch\n",
    "from sklearn.datasets import load_boston\n",
    "from matplotlib import pyplot as plt"
   ]
  },
  {
   "cell_type": "markdown",
   "metadata": {
    "id": "H6NeWuc-YPv9"
   },
   "source": [
    "## Create a virtual machine"
   ]
  },
  {
   "cell_type": "code",
   "execution_count": null,
   "metadata": {
    "id": "3PRkiFLrYI29"
   },
   "outputs": [],
   "source": [
    "alice = sy.VirtualMachine()\n",
    "alice_client = alice.get_root_client()"
   ]
  },
  {
   "cell_type": "code",
   "execution_count": null,
   "metadata": {
    "id": "y5PuuN9SNJ86"
   },
   "outputs": [],
   "source": [
    "remote_torch = alice_client.torch"
   ]
  },
  {
   "cell_type": "markdown",
   "metadata": {
    "id": "lmByqaScYVZZ"
   },
   "source": [
    "## Send data to alice"
   ]
  },
  {
   "cell_type": "markdown",
   "metadata": {
    "id": "_UE6L_w2QVH_"
   },
   "source": []
  },
  {
   "cell_type": "code",
   "execution_count": null,
   "metadata": {
    "colab": {
     "base_uri": "https://localhost:8080/",
     "height": 142
    },
    "id": "aG2KQ3wNG5S-",
    "outputId": "867883e0-d141-4ab2-c52c-846992840ceb"
   },
   "outputs": [],
   "source": [
    "dataset = load_boston()\n",
    "boston_data = torch.tensor(dataset[\"data\"]).float()\n",
    "boston_target = torch.tensor(dataset[\"target\"]).float()\n",
    "\n",
    "boston_data.tag(\"data\")\n",
    "boston_target.tag(\"target\")\n",
    "\n",
    "boston_data.send(alice_client, searchable=True)\n",
    "boston_target.send(alice_client, searchable=True)\n",
    "\n",
    "ds = [t for t in zip(boston_data, boston_target)]\n",
    "ds = sy.lib.python.List(ds)\n",
    "ds.tag(\"dataset\")\n",
    "ds.send(alice_client, searchable=True)\n",
    "\n",
    "# check\n",
    "alice_client.store.pandas"
   ]
  },
  {
   "cell_type": "code",
   "execution_count": null,
   "metadata": {
    "colab": {
     "base_uri": "https://localhost:8080/"
    },
    "id": "xhHw0JFMHhx-",
    "outputId": "19669b85-3b35-4b4c-8f5a-ad8e7fb66390"
   },
   "outputs": [],
   "source": [
    "remote_dl = remote_torch.utils.data.DataLoader(\n",
    "    alice_client.store[2], batch_size=32, shuffle=True\n",
    ")\n",
    "# make the request to be approved automatically(#5015), or exception \"Request to access data length not granted\"\n",
    "remote_dl.set_request_config({})"
   ]
  },
  {
   "cell_type": "code",
   "execution_count": null,
   "metadata": {
    "id": "zxM1vskpRwds"
   },
   "outputs": [],
   "source": [
    "class Model(sy.Module):\n",
    "    def __init__(self, torch_ref):\n",
    "        super(Model, self).__init__(torch_ref=torch_ref)\n",
    "\n",
    "        self.layer = self.torch_ref.nn.Linear(13, 1)\n",
    "\n",
    "    def forward(self, x):\n",
    "        output = self.layer(x)\n",
    "        return output\n",
    "\n",
    "\n",
    "local_model = Model(torch)\n",
    "remote_model = local_model.send(alice_client)"
   ]
  },
  {
   "cell_type": "code",
   "execution_count": null,
   "metadata": {
    "colab": {
     "base_uri": "https://localhost:8080/"
    },
    "id": "QMGNUOF_MsqX",
    "outputId": "728b3bd3-8f15-4d4c-8b89-bb91ff668f49"
   },
   "outputs": [],
   "source": [
    "loss_log = []\n",
    "for epoch in range(2):\n",
    "    epoch_loss = 0\n",
    "    for i, t in enumerate(remote_dl):\n",
    "        optimizer = remote_torch.optim.Adam(params=remote_model.parameters(), lr=1e-2)\n",
    "        optimizer.zero_grad()\n",
    "        data, target = t[0], t[1]\n",
    "        pred = remote_model(data)\n",
    "        loss = ((pred.view(-1) - target) ** 2).mean()\n",
    "        loss.backward()\n",
    "        optimizer.step()\n",
    "        gotloss = loss.get()\n",
    "        print(f\"[{epoch} - {i}], loss : {gotloss}\")\n",
    "\n",
    "        epoch_loss += gotloss\n",
    "    loss_log.append(epoch_loss)"
   ]
  },
  {
   "cell_type": "code",
   "execution_count": null,
   "metadata": {
    "colab": {
     "base_uri": "https://localhost:8080/",
     "height": 282
    },
    "id": "eZ0SXxTcMst-",
    "outputId": "99f16582-87fb-426f-9dbe-d5644e359256"
   },
   "outputs": [],
   "source": [
    "plt.plot(loss_log)"
   ]
  },
  {
   "cell_type": "code",
   "execution_count": null,
   "metadata": {
    "colab": {
     "base_uri": "https://localhost:8080/"
    },
    "id": "IXsFEAX8Msxv",
    "outputId": "798d8571-093f-4bcd-a031-ff6e4a91d2d1"
   },
   "outputs": [],
   "source": [
    "remote_model.get().save(f\"final_model.pt\")\n",
    "local_model = remote_model.get()\n",
    "\n",
    "local_loss = 0\n",
    "with torch.no_grad():\n",
    "    for i, t in enumerate(remote_dl):\n",
    "        data, target = t[0], t[1]\n",
    "        pred = remote_model(data)\n",
    "        loss = ((pred.view(-1) - target) ** 2).mean()\n",
    "        gotloss = loss.get()\n",
    "        local_loss += gotloss\n",
    "print(f\"loss on local model is {local_loss}\")"
   ]
  },
  {
   "cell_type": "code",
   "execution_count": null,
   "metadata": {
    "id": "FYNZ66UmW2BK"
   },
   "outputs": [],
   "source": []
  }
 ],
 "metadata": {
  "colab": {
   "collapsed_sections": [],
   "name": "Example_Remote_DataLoader.ipynb",
   "provenance": []
  },
  "kernelspec": {
   "display_name": "Python 3",
   "language": "python",
   "name": "python3"
  },
  "language_info": {
   "codemirror_mode": {
    "name": "ipython",
    "version": 3
   },
   "file_extension": ".py",
   "mimetype": "text/x-python",
   "name": "python",
   "nbconvert_exporter": "python",
   "pygments_lexer": "ipython3",
   "version": "3.9.2"
  }
 },
 "nbformat": 4,
 "nbformat_minor": 1
}
