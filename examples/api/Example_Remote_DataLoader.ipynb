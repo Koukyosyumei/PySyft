{
  "nbformat": 4,
  "nbformat_minor": 0,
  "metadata": {
    "colab": {
      "name": "Example_Remote_DataLoader.ipynb",
      "provenance": [],
      "collapsed_sections": []
    },
    "kernelspec": {
      "name": "python3",
      "display_name": "Python 3"
    }
  },
  "cells": [
    {
      "cell_type": "code",
      "metadata": {
        "id": "1nMe9IVfGyAA"
      },
      "source": [
        "\r\n",
        "%%capture\r\n",
        "# This only runs in colab and clones the code sets it up and fixes a few issues, \r\n",
        "# you can skip this if you are running Jupyter Notebooks\r\n",
        "import sys\r\n",
        "if \"google.colab\" in sys.modules:\r\n",
        "    branch = \"0.4\"    # change to the branch you want\r\n",
        "    ! git clone --single-branch --branch $branch https://github.com/OpenMined/PySyft.git\r\n",
        "    ! cd PySyft && ./scripts/colab.sh      # fixes some colab python issues\r\n",
        "    sys.path.append(\"/content/PySyft/src\") # prevents needing restart\r\n"
      ],
      "execution_count": 1,
      "outputs": []
    },
    {
      "cell_type": "markdown",
      "metadata": {
        "id": "9kiugpQBYuNx"
      },
      "source": [
        "this notebook is mainly based on [uid42](https://github.com/uid42)'s implementation on [#4901](https://github.com/OpenMined/PySyft/issues/4901). \r\n",
        "\r\n",
        "This notebook works in 0.4, but dosen't work in 0.3"
      ]
    },
    {
      "cell_type": "code",
      "metadata": {
        "id": "PeWsB5cvHBDK"
      },
      "source": [
        "import syft as sy\r\n",
        "import sklearn\r\n",
        "import torch\r\n",
        "from sklearn.datasets import load_boston\r\n",
        "from matplotlib import pyplot as plt"
      ],
      "execution_count": 2,
      "outputs": []
    },
    {
      "cell_type": "markdown",
      "metadata": {
        "id": "H6NeWuc-YPv9"
      },
      "source": [
        "## Create a virtual machine"
      ]
    },
    {
      "cell_type": "code",
      "metadata": {
        "id": "3PRkiFLrYI29"
      },
      "source": [
        "alice = sy.VirtualMachine()\r\n",
        "alice_client = alice.get_root_client()"
      ],
      "execution_count": 3,
      "outputs": []
    },
    {
      "cell_type": "code",
      "metadata": {
        "id": "y5PuuN9SNJ86"
      },
      "source": [
        "remote_torch = alice_client.torch"
      ],
      "execution_count": 5,
      "outputs": []
    },
    {
      "cell_type": "markdown",
      "metadata": {
        "id": "lmByqaScYVZZ"
      },
      "source": [
        "## Send data to alice"
      ]
    },
    {
      "cell_type": "markdown",
      "metadata": {
        "id": "_UE6L_w2QVH_"
      },
      "source": [
        ""
      ]
    },
    {
      "cell_type": "code",
      "metadata": {
        "colab": {
          "base_uri": "https://localhost:8080/",
          "height": 142
        },
        "id": "aG2KQ3wNG5S-",
        "outputId": "867883e0-d141-4ab2-c52c-846992840ceb"
      },
      "source": [
        "dataset = load_boston()\r\n",
        "boston_data = torch.tensor(dataset[\"data\"]).float()\r\n",
        "boston_target = torch.tensor(dataset[\"target\"]).float()\r\n",
        "\r\n",
        "boston_data.tag(\"data\")\r\n",
        "boston_target.tag(\"target\")\r\n",
        "\r\n",
        "boston_data.send(alice_client, searchable =True)\r\n",
        "boston_target.send(alice_client, searchable =True)\r\n",
        "\r\n",
        "ds = [t for t in zip(boston_data, boston_target)]\r\n",
        "ds = sy.lib.python.List(ds)\r\n",
        "ds.tag(\"dataset\")\r\n",
        "ds.send(alice_client, searchable=True)\r\n",
        "\r\n",
        "# check\r\n",
        "alice_client.store.pandas"
      ],
      "execution_count": 4,
      "outputs": [
        {
          "output_type": "execute_result",
          "data": {
            "text/html": [
              "<div>\n",
              "<style scoped>\n",
              "    .dataframe tbody tr th:only-of-type {\n",
              "        vertical-align: middle;\n",
              "    }\n",
              "\n",
              "    .dataframe tbody tr th {\n",
              "        vertical-align: top;\n",
              "    }\n",
              "\n",
              "    .dataframe thead th {\n",
              "        text-align: right;\n",
              "    }\n",
              "</style>\n",
              "<table border=\"1\" class=\"dataframe\">\n",
              "  <thead>\n",
              "    <tr style=\"text-align: right;\">\n",
              "      <th></th>\n",
              "      <th>ID</th>\n",
              "      <th>Tags</th>\n",
              "      <th>Description</th>\n",
              "      <th>object_type</th>\n",
              "    </tr>\n",
              "  </thead>\n",
              "  <tbody>\n",
              "    <tr>\n",
              "      <th>0</th>\n",
              "      <td>&lt;UID: 9124863512f74fe397d818093fe60cd5&gt;</td>\n",
              "      <td>[data]</td>\n",
              "      <td></td>\n",
              "      <td>&lt;class 'torch.Tensor'&gt;</td>\n",
              "    </tr>\n",
              "    <tr>\n",
              "      <th>1</th>\n",
              "      <td>&lt;UID: 7a808c896fc842a1b6f7e54f308a3b55&gt;</td>\n",
              "      <td>[target]</td>\n",
              "      <td></td>\n",
              "      <td>&lt;class 'torch.Tensor'&gt;</td>\n",
              "    </tr>\n",
              "    <tr>\n",
              "      <th>2</th>\n",
              "      <td>&lt;UID: bd3d678c954440ef8a56e4ca8554c937&gt;</td>\n",
              "      <td>[dataset]</td>\n",
              "      <td></td>\n",
              "      <td>&lt;class 'syft.lib.python.list.List'&gt;</td>\n",
              "    </tr>\n",
              "  </tbody>\n",
              "</table>\n",
              "</div>"
            ],
            "text/plain": [
              "                                        ID  ...                          object_type\n",
              "0  <UID: 9124863512f74fe397d818093fe60cd5>  ...               <class 'torch.Tensor'>\n",
              "1  <UID: 7a808c896fc842a1b6f7e54f308a3b55>  ...               <class 'torch.Tensor'>\n",
              "2  <UID: bd3d678c954440ef8a56e4ca8554c937>  ...  <class 'syft.lib.python.list.List'>\n",
              "\n",
              "[3 rows x 4 columns]"
            ]
          },
          "metadata": {
            "tags": []
          },
          "execution_count": 4
        }
      ]
    },
    {
      "cell_type": "code",
      "metadata": {
        "colab": {
          "base_uri": "https://localhost:8080/"
        },
        "id": "xhHw0JFMHhx-",
        "outputId": "19669b85-3b35-4b4c-8f5a-ad8e7fb66390"
      },
      "source": [
        "remote_dl = remote_torch.utils.data.DataLoader(\r\n",
        "    alice_client.store[2], batch_size=32, shuffle=True\r\n",
        " )\r\n",
        "# make the request to be approved automatically(#5015), or exception \"Request to access data length not granted\"\r\n",
        "remote_dl.set_request_config({})"
      ],
      "execution_count": 7,
      "outputs": [
        {
          "output_type": "stream",
          "text": [
            "[2021-03-01T06:06:16.942929+0000][CRITICAL][logger] <class 'syft.core.store.store_memory.MemoryStore'> __delitem__ error <UID: 45ccfb1d082e4320bcfafe398715c076>.\n"
          ],
          "name": "stderr"
        }
      ]
    },
    {
      "cell_type": "code",
      "metadata": {
        "id": "zxM1vskpRwds"
      },
      "source": [
        "class Model(sy.Module):\r\n",
        "    def __init__(self, torch_ref):\r\n",
        "        super(Model, self).__init__(torch_ref=torch_ref)   \r\n",
        "        \r\n",
        "        self.layer = self.torch_ref.nn.Linear(13, 1)\r\n",
        "\r\n",
        "    def forward(self, x):\r\n",
        "        output = self.layer(x)\r\n",
        "        return output\r\n",
        "\r\n",
        "local_model = Model(torch)\r\n",
        "remote_model = local_model.send(alice_client)"
      ],
      "execution_count": 8,
      "outputs": []
    },
    {
      "cell_type": "code",
      "metadata": {
        "colab": {
          "base_uri": "https://localhost:8080/"
        },
        "id": "QMGNUOF_MsqX",
        "outputId": "728b3bd3-8f15-4d4c-8b89-bb91ff668f49"
      },
      "source": [
        "loss_log = []\r\n",
        "for epoch in range(2):\r\n",
        "  epoch_loss = 0\r\n",
        "  for i, t in enumerate(remote_dl):\r\n",
        "      optimizer = remote_torch.optim.Adam(params=remote_model.parameters(),lr=1e-2)\r\n",
        "      optimizer.zero_grad()    \r\n",
        "      data, target = t[0], t[1]\r\n",
        "      pred = remote_model(data)    \r\n",
        "      loss = ((pred.view(-1) - target)**2).mean()\r\n",
        "      loss.backward()\r\n",
        "      optimizer.step()    \r\n",
        "      gotloss = loss.get()\r\n",
        "      print(f\"[{epoch} - {i}], loss : {gotloss}\")\r\n",
        "\r\n",
        "      epoch_loss += gotloss\r\n",
        "      \r\n",
        "  loss_log.append(epoch_loss)"
      ],
      "execution_count": 9,
      "outputs": [
        {
          "output_type": "stream",
          "text": [
            "[2021-03-01T06:06:33.998068+0000][CRITICAL][logger] <class 'syft.core.store.store_memory.MemoryStore'> __delitem__ error <UID: 3350f6e07f04441b91cd7d3fcdc6fa3b>.\n",
            "/content/PySyft/src/syft/lib/torch/uppercase_tensor.py:45: UserWarning: The .grad attribute of a Tensor that is not a leaf Tensor is being accessed. Its .grad attribute won't be populated during autograd.backward(). If you indeed want the gradient for a non-leaf Tensor, use .retain_grad() on the non-leaf Tensor. If you access the non-leaf Tensor by mistake, make sure you access the leaf Tensor instead. See github.com/pytorch/pytorch/pull/30531 for more informations.\n",
            "  grad = getattr(self.value, \"grad\", None)\n"
          ],
          "name": "stderr"
        },
        {
          "output_type": "stream",
          "text": [
            "[0 - 0], loss : 7569.056640625\n"
          ],
          "name": "stdout"
        },
        {
          "output_type": "stream",
          "text": [
            "[2021-03-01T06:06:34.754232+0000][CRITICAL][logger] <class 'syft.core.store.store_memory.MemoryStore'> __delitem__ error <UID: f6ca2ecc55104c0dacfef95022e19c95>.\n"
          ],
          "name": "stderr"
        },
        {
          "output_type": "stream",
          "text": [
            "[0 - 1], loss : 5609.076171875\n"
          ],
          "name": "stdout"
        },
        {
          "output_type": "stream",
          "text": [
            "[2021-03-01T06:06:35.188158+0000][CRITICAL][logger] <class 'syft.core.store.store_memory.MemoryStore'> __delitem__ error <UID: bdc1394c57d14a40977dffea934d4e83>.\n"
          ],
          "name": "stderr"
        },
        {
          "output_type": "stream",
          "text": [
            "[0 - 2], loss : 5294.07568359375\n"
          ],
          "name": "stdout"
        },
        {
          "output_type": "stream",
          "text": [
            "[2021-03-01T06:06:35.628493+0000][CRITICAL][logger] <class 'syft.core.store.store_memory.MemoryStore'> __delitem__ error <UID: f29ace8a875146738cf5a6cb3687e7e3>.\n"
          ],
          "name": "stderr"
        },
        {
          "output_type": "stream",
          "text": [
            "[0 - 3], loss : 3337.662109375\n"
          ],
          "name": "stdout"
        },
        {
          "output_type": "stream",
          "text": [
            "[2021-03-01T06:06:36.069841+0000][CRITICAL][logger] <class 'syft.core.store.store_memory.MemoryStore'> __delitem__ error <UID: 549adbe2a0b349d2b78d8686e4146c45>.\n"
          ],
          "name": "stderr"
        },
        {
          "output_type": "stream",
          "text": [
            "[0 - 4], loss : 2681.205078125\n"
          ],
          "name": "stdout"
        },
        {
          "output_type": "stream",
          "text": [
            "[2021-03-01T06:06:36.502211+0000][CRITICAL][logger] <class 'syft.core.store.store_memory.MemoryStore'> __delitem__ error <UID: 31310020523f4afa9469dd59ba1ced58>.\n"
          ],
          "name": "stderr"
        },
        {
          "output_type": "stream",
          "text": [
            "[0 - 5], loss : 1902.0015869140625\n"
          ],
          "name": "stdout"
        },
        {
          "output_type": "stream",
          "text": [
            "[2021-03-01T06:06:36.952544+0000][CRITICAL][logger] <class 'syft.core.store.store_memory.MemoryStore'> __delitem__ error <UID: daf71eb9274849718df6cddbd192ecf9>.\n"
          ],
          "name": "stderr"
        },
        {
          "output_type": "stream",
          "text": [
            "[0 - 6], loss : 1344.0174560546875\n"
          ],
          "name": "stdout"
        },
        {
          "output_type": "stream",
          "text": [
            "[2021-03-01T06:06:37.384832+0000][CRITICAL][logger] <class 'syft.core.store.store_memory.MemoryStore'> __delitem__ error <UID: f24f882dfc4f4040b0516287bf292202>.\n"
          ],
          "name": "stderr"
        },
        {
          "output_type": "stream",
          "text": [
            "[0 - 7], loss : 1171.1759033203125\n"
          ],
          "name": "stdout"
        },
        {
          "output_type": "stream",
          "text": [
            "[2021-03-01T06:06:37.829527+0000][CRITICAL][logger] <class 'syft.core.store.store_memory.MemoryStore'> __delitem__ error <UID: d08f786f1d9b48c48e0864b0d4f30504>.\n"
          ],
          "name": "stderr"
        },
        {
          "output_type": "stream",
          "text": [
            "[0 - 8], loss : 994.17919921875\n"
          ],
          "name": "stdout"
        },
        {
          "output_type": "stream",
          "text": [
            "[2021-03-01T06:06:38.267644+0000][CRITICAL][logger] <class 'syft.core.store.store_memory.MemoryStore'> __delitem__ error <UID: 63c92d2b42014810b15b7c1c6ae11108>.\n"
          ],
          "name": "stderr"
        },
        {
          "output_type": "stream",
          "text": [
            "[0 - 9], loss : 250.1975555419922\n"
          ],
          "name": "stdout"
        },
        {
          "output_type": "stream",
          "text": [
            "[2021-03-01T06:06:38.707269+0000][CRITICAL][logger] <class 'syft.core.store.store_memory.MemoryStore'> __delitem__ error <UID: 30828c8304234d6187935a8841cd851c>.\n"
          ],
          "name": "stderr"
        },
        {
          "output_type": "stream",
          "text": [
            "[0 - 10], loss : 329.06060791015625\n"
          ],
          "name": "stdout"
        },
        {
          "output_type": "stream",
          "text": [
            "[2021-03-01T06:06:39.136562+0000][CRITICAL][logger] <class 'syft.core.store.store_memory.MemoryStore'> __delitem__ error <UID: 713f61732c8147818f6c8113df3fc406>.\n"
          ],
          "name": "stderr"
        },
        {
          "output_type": "stream",
          "text": [
            "[0 - 11], loss : 174.1690216064453\n"
          ],
          "name": "stdout"
        },
        {
          "output_type": "stream",
          "text": [
            "[2021-03-01T06:06:39.561964+0000][CRITICAL][logger] <class 'syft.core.store.store_memory.MemoryStore'> __delitem__ error <UID: 57d393e29c404437bb81bfa7142d9ac2>.\n"
          ],
          "name": "stderr"
        },
        {
          "output_type": "stream",
          "text": [
            "[0 - 12], loss : 161.39324951171875\n"
          ],
          "name": "stdout"
        },
        {
          "output_type": "stream",
          "text": [
            "[2021-03-01T06:06:40.009602+0000][CRITICAL][logger] <class 'syft.core.store.store_memory.MemoryStore'> __delitem__ error <UID: 0a254cc7a3c747ccafc2e05e4f9ddd8a>.\n"
          ],
          "name": "stderr"
        },
        {
          "output_type": "stream",
          "text": [
            "[0 - 13], loss : 307.6429748535156\n"
          ],
          "name": "stdout"
        },
        {
          "output_type": "stream",
          "text": [
            "[2021-03-01T06:06:40.440220+0000][CRITICAL][logger] <class 'syft.core.store.store_memory.MemoryStore'> __delitem__ error <UID: b08fb749d7104d1f82805d9d2ffc6c98>.\n"
          ],
          "name": "stderr"
        },
        {
          "output_type": "stream",
          "text": [
            "[0 - 14], loss : 185.72035217285156\n"
          ],
          "name": "stdout"
        },
        {
          "output_type": "stream",
          "text": [
            "[2021-03-01T06:06:40.906921+0000][CRITICAL][logger] <class 'syft.core.store.store_memory.MemoryStore'> __delitem__ error <UID: 988d7a0c09f64d54955d266be895cdf1>.\n",
            "[2021-03-01T06:06:41.145176+0000][CRITICAL][logger] <class 'syft.core.store.store_memory.MemoryStore'> __delitem__ error <UID: 28d16d2f400d4e27b7fd2c9db40f28d8>.\n"
          ],
          "name": "stderr"
        },
        {
          "output_type": "stream",
          "text": [
            "[0 - 15], loss : 147.42662048339844\n"
          ],
          "name": "stdout"
        },
        {
          "output_type": "stream",
          "text": [
            "[2021-03-01T06:06:41.377938+0000][CRITICAL][logger] <class 'syft.core.store.store_memory.MemoryStore'> __delitem__ error <UID: 74ebdb931da94690bc0e49980226c197>.\n"
          ],
          "name": "stderr"
        },
        {
          "output_type": "stream",
          "text": [
            "[1 - 0], loss : 231.244873046875\n"
          ],
          "name": "stdout"
        },
        {
          "output_type": "stream",
          "text": [
            "[2021-03-01T06:06:41.811829+0000][CRITICAL][logger] <class 'syft.core.store.store_memory.MemoryStore'> __delitem__ error <UID: eed463612fd04da3bba13727ea20003d>.\n"
          ],
          "name": "stderr"
        },
        {
          "output_type": "stream",
          "text": [
            "[1 - 1], loss : 119.6408462524414\n"
          ],
          "name": "stdout"
        },
        {
          "output_type": "stream",
          "text": [
            "[2021-03-01T06:06:42.255695+0000][CRITICAL][logger] <class 'syft.core.store.store_memory.MemoryStore'> __delitem__ error <UID: 6558e9f202d6421f868fe4972cb1f87f>.\n"
          ],
          "name": "stderr"
        },
        {
          "output_type": "stream",
          "text": [
            "[1 - 2], loss : 158.04197692871094\n"
          ],
          "name": "stdout"
        },
        {
          "output_type": "stream",
          "text": [
            "[2021-03-01T06:06:42.700285+0000][CRITICAL][logger] <class 'syft.core.store.store_memory.MemoryStore'> __delitem__ error <UID: c4154ff3188e4b0f99fcb59d222ad26c>.\n"
          ],
          "name": "stderr"
        },
        {
          "output_type": "stream",
          "text": [
            "[1 - 3], loss : 277.56414794921875\n"
          ],
          "name": "stdout"
        },
        {
          "output_type": "stream",
          "text": [
            "[2021-03-01T06:06:43.139562+0000][CRITICAL][logger] <class 'syft.core.store.store_memory.MemoryStore'> __delitem__ error <UID: 361546ec013f4baa88b99720d35b0d05>.\n"
          ],
          "name": "stderr"
        },
        {
          "output_type": "stream",
          "text": [
            "[1 - 4], loss : 109.14098358154297\n"
          ],
          "name": "stdout"
        },
        {
          "output_type": "stream",
          "text": [
            "[2021-03-01T06:06:43.579621+0000][CRITICAL][logger] <class 'syft.core.store.store_memory.MemoryStore'> __delitem__ error <UID: c05ff267dc6a4b68b824b3e45e1ea946>.\n"
          ],
          "name": "stderr"
        },
        {
          "output_type": "stream",
          "text": [
            "[1 - 5], loss : 226.4268798828125\n"
          ],
          "name": "stdout"
        },
        {
          "output_type": "stream",
          "text": [
            "[2021-03-01T06:06:44.023405+0000][CRITICAL][logger] <class 'syft.core.store.store_memory.MemoryStore'> __delitem__ error <UID: cf872673f77e4c9ba6f0f23637d2f23c>.\n"
          ],
          "name": "stderr"
        },
        {
          "output_type": "stream",
          "text": [
            "[1 - 6], loss : 89.37860107421875\n"
          ],
          "name": "stdout"
        },
        {
          "output_type": "stream",
          "text": [
            "[2021-03-01T06:06:44.474927+0000][CRITICAL][logger] <class 'syft.core.store.store_memory.MemoryStore'> __delitem__ error <UID: c19de5f7484347c085071f8aa2f47db6>.\n"
          ],
          "name": "stderr"
        },
        {
          "output_type": "stream",
          "text": [
            "[1 - 7], loss : 174.861328125\n"
          ],
          "name": "stdout"
        },
        {
          "output_type": "stream",
          "text": [
            "[2021-03-01T06:06:44.925344+0000][CRITICAL][logger] <class 'syft.core.store.store_memory.MemoryStore'> __delitem__ error <UID: b77b6626f19c426e81e7ddf3857816d5>.\n"
          ],
          "name": "stderr"
        },
        {
          "output_type": "stream",
          "text": [
            "[1 - 8], loss : 168.7006378173828\n"
          ],
          "name": "stdout"
        },
        {
          "output_type": "stream",
          "text": [
            "[2021-03-01T06:06:45.356965+0000][CRITICAL][logger] <class 'syft.core.store.store_memory.MemoryStore'> __delitem__ error <UID: f6c96ca65e194ae3a9baeff7c4063de0>.\n"
          ],
          "name": "stderr"
        },
        {
          "output_type": "stream",
          "text": [
            "[1 - 9], loss : 132.24166870117188\n"
          ],
          "name": "stdout"
        },
        {
          "output_type": "stream",
          "text": [
            "[2021-03-01T06:06:45.785381+0000][CRITICAL][logger] <class 'syft.core.store.store_memory.MemoryStore'> __delitem__ error <UID: ae709fcd5ddc4abe932cc0d250575300>.\n"
          ],
          "name": "stderr"
        },
        {
          "output_type": "stream",
          "text": [
            "[1 - 10], loss : 114.78844451904297\n"
          ],
          "name": "stdout"
        },
        {
          "output_type": "stream",
          "text": [
            "[2021-03-01T06:06:46.224625+0000][CRITICAL][logger] <class 'syft.core.store.store_memory.MemoryStore'> __delitem__ error <UID: c1fd5e7078254ecbb96167fa6e9b469a>.\n"
          ],
          "name": "stderr"
        },
        {
          "output_type": "stream",
          "text": [
            "[1 - 11], loss : 109.70777130126953\n"
          ],
          "name": "stdout"
        },
        {
          "output_type": "stream",
          "text": [
            "[2021-03-01T06:06:46.671803+0000][CRITICAL][logger] <class 'syft.core.store.store_memory.MemoryStore'> __delitem__ error <UID: 3571c829bc5a4ad793ff95a01924ce9e>.\n"
          ],
          "name": "stderr"
        },
        {
          "output_type": "stream",
          "text": [
            "[1 - 12], loss : 235.74343872070312\n"
          ],
          "name": "stdout"
        },
        {
          "output_type": "stream",
          "text": [
            "[2021-03-01T06:06:47.111895+0000][CRITICAL][logger] <class 'syft.core.store.store_memory.MemoryStore'> __delitem__ error <UID: b95f518ac0b04fd1994d8a944dfeaddf>.\n"
          ],
          "name": "stderr"
        },
        {
          "output_type": "stream",
          "text": [
            "[1 - 13], loss : 127.6319580078125\n"
          ],
          "name": "stdout"
        },
        {
          "output_type": "stream",
          "text": [
            "[2021-03-01T06:06:47.538715+0000][CRITICAL][logger] <class 'syft.core.store.store_memory.MemoryStore'> __delitem__ error <UID: 71e80f265fa646d4bee6a48c0dd34891>.\n"
          ],
          "name": "stderr"
        },
        {
          "output_type": "stream",
          "text": [
            "[1 - 14], loss : 103.74922180175781\n"
          ],
          "name": "stdout"
        },
        {
          "output_type": "stream",
          "text": [
            "[2021-03-01T06:06:47.975432+0000][CRITICAL][logger] <class 'syft.core.store.store_memory.MemoryStore'> __delitem__ error <UID: b524c8852a594dc8b2553df2386930c9>.\n"
          ],
          "name": "stderr"
        },
        {
          "output_type": "stream",
          "text": [
            "[1 - 15], loss : 89.54304504394531\n"
          ],
          "name": "stdout"
        }
      ]
    },
    {
      "cell_type": "code",
      "metadata": {
        "colab": {
          "base_uri": "https://localhost:8080/",
          "height": 282
        },
        "id": "eZ0SXxTcMst-",
        "outputId": "99f16582-87fb-426f-9dbe-d5644e359256"
      },
      "source": [
        "plt.plot(loss_log)"
      ],
      "execution_count": 10,
      "outputs": [
        {
          "output_type": "execute_result",
          "data": {
            "text/plain": [
              "[<matplotlib.lines.Line2D at 0x7f878815b650>]"
            ]
          },
          "metadata": {
            "tags": []
          },
          "execution_count": 10
        },
        {
          "output_type": "display_data",
          "data": {
            "image/png": "[encoded data removed]",
            "text/plain": [
              "<Figure size 432x288 with 1 Axes>"
            ]
          },
          "metadata": {
            "tags": [],
            "needs_background": "light"
          }
        }
      ]
    },
    {
      "cell_type": "code",
      "metadata": {
        "colab": {
          "base_uri": "https://localhost:8080/"
        },
        "id": "IXsFEAX8Msxv",
        "outputId": "798d8571-093f-4bcd-a031-ff6e4a91d2d1"
      },
      "source": [
        "remote_model.get().save(f\"final_model.pt\")\r\n",
        "local_model = remote_model.get()\r\n",
        "\r\n",
        "local_loss = 0\r\n",
        "with torch.no_grad():\r\n",
        "  for i, t in enumerate(remote_dl): \r\n",
        "      data, target = t[0], t[1]\r\n",
        "      pred = remote_model(data)    \r\n",
        "      loss = ((pred.view(-1) - target)**2).mean() \r\n",
        "      gotloss = loss.get()\r\n",
        "      local_loss += gotloss\r\n",
        "\r\n",
        "print(f\"loss on local model is {local_loss}\")"
      ],
      "execution_count": 11,
      "outputs": [
        {
          "output_type": "stream",
          "text": [
            "[2021-03-01T06:09:04.174719+0000][CRITICAL][logger] <class 'syft.core.store.store_memory.MemoryStore'> __delitem__ error <UID: c55730ddf2434118abc6a6b11d7e0a08>.\n",
            "[2021-03-01T06:09:04.284966+0000][CRITICAL][logger] <class 'syft.core.store.store_memory.MemoryStore'> __delitem__ error <UID: 0fbac44acaf74cc1bcc4e3225ccd8414>.\n",
            "[2021-03-01T06:09:04.292832+0000][CRITICAL][logger] <class 'syft.core.store.store_memory.MemoryStore'> __delitem__ error <UID: 72f3e16df9e54d8db2169f9191450b5e>.\n",
            "[2021-03-01T06:09:04.535624+0000][CRITICAL][logger] <class 'syft.core.store.store_memory.MemoryStore'> __delitem__ error <UID: 7642520267394cf18547e9503c7fae08>.\n",
            "[2021-03-01T06:09:04.807487+0000][CRITICAL][logger] <class 'syft.core.store.store_memory.MemoryStore'> __delitem__ error <UID: c7d336fa773d495581ae68803f1f6224>.\n",
            "[2021-03-01T06:09:05.113158+0000][CRITICAL][logger] <class 'syft.core.store.store_memory.MemoryStore'> __delitem__ error <UID: 69450410d73149f3afeb2e6851b2eb17>.\n",
            "[2021-03-01T06:09:05.385709+0000][CRITICAL][logger] <class 'syft.core.store.store_memory.MemoryStore'> __delitem__ error <UID: 1e7a92f2bc4b4f0784f310b7baa452c2>.\n",
            "[2021-03-01T06:09:05.690878+0000][CRITICAL][logger] <class 'syft.core.store.store_memory.MemoryStore'> __delitem__ error <UID: 54998642a8ee46198b16ff34b92e2515>.\n",
            "[2021-03-01T06:09:05.960130+0000][CRITICAL][logger] <class 'syft.core.store.store_memory.MemoryStore'> __delitem__ error <UID: d21593494f514a97b60985eda762fb7f>.\n",
            "[2021-03-01T06:09:06.255838+0000][CRITICAL][logger] <class 'syft.core.store.store_memory.MemoryStore'> __delitem__ error <UID: e40c7066b6b2438e81dedc09074ae2e9>.\n",
            "[2021-03-01T06:09:06.524739+0000][CRITICAL][logger] <class 'syft.core.store.store_memory.MemoryStore'> __delitem__ error <UID: 3bcb265f87364980aee75a96149d25ba>.\n",
            "[2021-03-01T06:09:06.816327+0000][CRITICAL][logger] <class 'syft.core.store.store_memory.MemoryStore'> __delitem__ error <UID: e1b0d99664964902b53fe7d9ed723a5e>.\n",
            "[2021-03-01T06:09:07.089437+0000][CRITICAL][logger] <class 'syft.core.store.store_memory.MemoryStore'> __delitem__ error <UID: 05af6c85798c4533998bd03d6f4f02a0>.\n",
            "[2021-03-01T06:09:07.389716+0000][CRITICAL][logger] <class 'syft.core.store.store_memory.MemoryStore'> __delitem__ error <UID: f977336398ed48299277ab83faf54564>.\n",
            "[2021-03-01T06:09:07.658834+0000][CRITICAL][logger] <class 'syft.core.store.store_memory.MemoryStore'> __delitem__ error <UID: b1426bc24282407892e0eb1348c1de50>.\n",
            "[2021-03-01T06:09:07.951640+0000][CRITICAL][logger] <class 'syft.core.store.store_memory.MemoryStore'> __delitem__ error <UID: 794d7ca98adf4691a8cfb45235f5716f>.\n",
            "[2021-03-01T06:09:08.224320+0000][CRITICAL][logger] <class 'syft.core.store.store_memory.MemoryStore'> __delitem__ error <UID: 40c789361cfb48589462886e056976e4>.\n",
            "[2021-03-01T06:09:08.516063+0000][CRITICAL][logger] <class 'syft.core.store.store_memory.MemoryStore'> __delitem__ error <UID: 6356ee95f6a04e87b010e4fe884e965c>.\n",
            "[2021-03-01T06:09:08.771451+0000][CRITICAL][logger] <class 'syft.core.store.store_memory.MemoryStore'> __delitem__ error <UID: efc8de7913eb4b15989b9921240b5c45>.\n"
          ],
          "name": "stderr"
        },
        {
          "output_type": "stream",
          "text": [
            "loss on local model is 1628.5972900390625\n"
          ],
          "name": "stdout"
        }
      ]
    },
    {
      "cell_type": "code",
      "metadata": {
        "id": "FYNZ66UmW2BK"
      },
      "source": [
        ""
      ],
      "execution_count": null,
      "outputs": []
    }
  ]
}